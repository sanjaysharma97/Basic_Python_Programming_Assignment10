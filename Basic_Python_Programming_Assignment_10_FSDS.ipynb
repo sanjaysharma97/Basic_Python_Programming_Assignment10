{
 "cells": [
  {
   "cell_type": "markdown",
   "id": "79895dbf",
   "metadata": {},
   "source": [
    "# 1. Write a Python program to find sum of elements in list?\n",
    "\n",
    "ANSWER-"
   ]
  },
  {
   "cell_type": "code",
   "execution_count": 26,
   "id": "ac025512",
   "metadata": {},
   "outputs": [
    {
     "name": "stdout",
     "output_type": "stream",
     "text": [
      "enter the numbers of elements you want in to the list: 6\n",
      "enter the elements: -1\n",
      "enter the elements: 0\n",
      "enter the elements: 2\n",
      "enter the elements: 9\n",
      "enter the elements: 7\n",
      "enter the elements: 4\n",
      "[-1, 0, 2, 9, 7, 4]\n",
      "the sum of given list [-1, 0, 2, 9, 7, 4] is 21\n"
     ]
    }
   ],
   "source": [
    "def sum_of_list():\n",
    "    number_of_elements=int(input(\"enter the numbers of elements you want in to the list: \"))\n",
    "    list1=[]\n",
    "    for i in range(number_of_elements):\n",
    "        list1.append(int(input(\"enter the elements: \")))\n",
    "    print(list1)   \n",
    "    print(f'the sum of given list {list1} is {sum(list1)}')\n",
    "sum_of_list()\n",
    "\n",
    "                            \n",
    "        "
   ]
  },
  {
   "cell_type": "markdown",
   "id": "1902c796",
   "metadata": {},
   "source": [
    "# 2. Write a Python program to Multiply all numbers in the list?\n",
    "\n",
    "ANSWER-"
   ]
  },
  {
   "cell_type": "code",
   "execution_count": 41,
   "id": "d3ab793b",
   "metadata": {},
   "outputs": [
    {
     "name": "stdout",
     "output_type": "stream",
     "text": [
      "enter the number of elements you want into the list:6\n",
      "enter the elements you want: -1\n",
      "[-1]\n",
      "enter the elements you want: 4\n",
      "[-1, 4]\n",
      "enter the elements you want: -2\n",
      "[-1, 4, -2]\n",
      "enter the elements you want: 3\n",
      "[-1, 4, -2, 3]\n",
      "enter the elements you want: 5\n",
      "[-1, 4, -2, 3, 5]\n",
      "enter the elements you want: 6\n",
      "[-1, 4, -2, 3, 5, 6]\n",
      "the multiply of given list [-1, 4, -2, 3, 5, 6] is 720\n"
     ]
    }
   ],
   "source": [
    "def multiplyoflist():\n",
    "    numberofelements=int(input(\"enter the number of elements you want into the list:\" ))\n",
    "    list1=[]\n",
    "    mul=1 \n",
    "    for i in range(numberofelements):\n",
    "        list1.append(int(input(\"enter the elements you want: \")))\n",
    "        print(list1)  \n",
    "    for j in list1:\n",
    "        mul=mul*j\n",
    "    print(f'the multiply of given list {list1} is {mul}')\n",
    "    \n",
    "\n",
    "multiplyoflist()        "
   ]
  },
  {
   "cell_type": "markdown",
   "id": "b979fe5b",
   "metadata": {},
   "source": [
    "# 3. Write a Python program to find smallest number in a list?\n",
    "\n",
    "ANSWER-"
   ]
  },
  {
   "cell_type": "code",
   "execution_count": 83,
   "id": "83bbcfad",
   "metadata": {},
   "outputs": [
    {
     "name": "stdout",
     "output_type": "stream",
     "text": [
      "enter the number of elements you want into the list : 6\n",
      "enter the elements you want: 90\n",
      "enter the elements you want: 10\n",
      "enter the elements you want: 34\n",
      "enter the elements you want: 18\n",
      "enter the elements you want: 11\n",
      "enter the elements you want: 27\n",
      "the smallest element in the given list [90, 10, 34, 18, 11, 27] is 10\n"
     ]
    }
   ],
   "source": [
    "def checksmallestnumberinlist():\n",
    "    numberofelements=int(input(\"enter the number of elements you want into the list : \"))\n",
    "    list1=[]\n",
    "    for i in range(numberofelements):\n",
    "        list1.append(int(input(\"enter the elements you want: \")))\n",
    "    print(f'the smallest element in the given list {list1} is {sorted(list1)[0]}')\n",
    "        \n",
    "checksmallestnumberinlist()        \n",
    "        "
   ]
  },
  {
   "cell_type": "markdown",
   "id": "6a806a19",
   "metadata": {},
   "source": [
    "# 4. Write a Python program to find largest number in a list?\n",
    "\n",
    "ANSWER-"
   ]
  },
  {
   "cell_type": "code",
   "execution_count": 84,
   "id": "74285876",
   "metadata": {},
   "outputs": [
    {
     "name": "stdout",
     "output_type": "stream",
     "text": [
      "how much elemets you want into the list?: 6\n",
      "enter the elements: 2\n",
      "enter the elements: 70\n",
      "enter the elements: 45\n",
      "enter the elements: 89\n",
      "enter the elements: 1\n",
      "enter the elements: 29\n",
      "the largest element in the given list [2, 70, 45, 89, 1, 29] is 89\n"
     ]
    }
   ],
   "source": [
    "def checklargestnumberinlist():\n",
    "    numberofelements=int(input(\"how much elemets you want into the list?: \"))\n",
    "    list1=[]\n",
    "    for i in range(numberofelements):\n",
    "        list1.append(int(input(\"enter the elements: \")))\n",
    "    print(f'the largest element in the given list {list1} is {sorted(list1)[-1]}')\n",
    "    \n",
    "checklargestnumberinlist()    "
   ]
  },
  {
   "cell_type": "markdown",
   "id": "f6c1b644",
   "metadata": {},
   "source": [
    "# 5. Write a Python program to find second largest number in a list?\n",
    "\n",
    "ANSWER-"
   ]
  },
  {
   "cell_type": "code",
   "execution_count": 85,
   "id": "d2ed2f23",
   "metadata": {},
   "outputs": [
    {
     "name": "stdout",
     "output_type": "stream",
     "text": [
      "how much elemets you want to see in your list? 6\n",
      "enter the elements you want into your list: -4\n",
      "enter the elements you want into your list: 5\n",
      "enter the elements you want into your list: 80\n",
      "enter the elements you want into your list: 79\n",
      "enter the elements you want into your list: 14\n",
      "enter the elements you want into your list: 67\n",
      "the largest element in the given list [-4, 5, 80, 79, 14, 67] is 79\n"
     ]
    }
   ],
   "source": [
    "def CheckSecondLargestNumberInList():\n",
    "    numberofelements=int(input(\"how much elemets you want to see in your list? \"))\n",
    "    list1=[]\n",
    "    for i in range(numberofelements):\n",
    "        list1.append(int(input(\"enter the elements you want into your list: \")))\n",
    "    print(f'the largest element in the given list {list1} is {sorted(list1)[-2]}')\n",
    "    \n",
    "CheckSecondLargestNumberInList()    \n",
    "    "
   ]
  },
  {
   "cell_type": "markdown",
   "id": "da473648",
   "metadata": {},
   "source": [
    "# 6. Write a Python program to find N largest elements from a list?\n",
    "\n",
    "ANSWER-"
   ]
  },
  {
   "cell_type": "code",
   "execution_count": 89,
   "id": "f2c9358e",
   "metadata": {},
   "outputs": [
    {
     "name": "stdout",
     "output_type": "stream",
     "text": [
      "enter how many largest elements you want from the given list? 3\n",
      "how much elements you want to see in your list? 7\n",
      "enter the elements: 20\n",
      "enter the elements: -6\n",
      "enter the elements: 23\n",
      "enter the elements: -4\n",
      "enter the elements: 10\n",
      "enter the elements: 50\n",
      "enter the elements: 34\n",
      "the N largest elements in a given list [20, -6, 23, -4, 10, 50, 34] is [50, 34, 23]\n"
     ]
    }
   ],
   "source": [
    "def nLargestelementinlist(k):\n",
    "    numberofelements=int(input(\"how much elements you want to see in your list? \"))\n",
    "    list1=[]\n",
    "    for i in range(numberofelements):\n",
    "        list1.append(int(input(\"enter the elements: \")))\n",
    "    print(f'the N largest elements in a given list {list1} is {sorted(list1,reverse=True)[0:k]}')\n",
    "N=int(input(\"enter how many largest elements you want from the given list? \"))\n",
    "nLargestelementinlist(N)\n",
    "    \n",
    "    "
   ]
  },
  {
   "cell_type": "markdown",
   "id": "01423e53",
   "metadata": {},
   "source": [
    "# 7. Write a Python program to print even numbers in a list?\n",
    "\n",
    "ANSWER-"
   ]
  },
  {
   "cell_type": "code",
   "execution_count": 99,
   "id": "f98e2083",
   "metadata": {},
   "outputs": [
    {
     "name": "stdout",
     "output_type": "stream",
     "text": [
      "how much elements you want to see into the list? 6\n",
      "enter the elements into your list: -8\n",
      "enter the elements into your list: 9\n",
      "enter the elements into your list: -33\n",
      "enter the elements into your list: 13\n",
      "enter the elements into your list: 20\n",
      "enter the elements into your list: 42\n",
      "[-8, 20, 42]\n"
     ]
    }
   ],
   "source": [
    "def evennumbersinlist():\n",
    "    numberofelements=int(input(\"how much elements you want to see into the list? \"))\n",
    "    list1=[]\n",
    "    even_list=[]\n",
    "    for i in range(numberofelements):\n",
    "        list1.append(int(input(\"enter the elements into your list: \")))\n",
    "    for j in list1:\n",
    "        if j%2==0:\n",
    "            even_list.append(j)\n",
    "    print(even_list)\n",
    "            \n",
    "evennumbersinlist()            "
   ]
  },
  {
   "cell_type": "markdown",
   "id": "c0dc7012",
   "metadata": {},
   "source": [
    "# 8. Write a Python program to print odd numbers in a List?\n",
    "\n",
    "ANSWER-"
   ]
  },
  {
   "cell_type": "code",
   "execution_count": 106,
   "id": "31112cfe",
   "metadata": {},
   "outputs": [
    {
     "name": "stdout",
     "output_type": "stream",
     "text": [
      "how much elements you want to see in your list? 6\n",
      "enter the elements in your list: -3\n",
      "[-3]\n",
      "enter the elements in your list: 4\n",
      "[-3, 4]\n",
      "enter the elements in your list: -8\n",
      "[-3, 4, -8]\n",
      "enter the elements in your list: 90\n",
      "[-3, 4, -8, 90]\n",
      "enter the elements in your list: 303\n",
      "[-3, 4, -8, 90, 303]\n",
      "enter the elements in your list: 13\n",
      "[-3, 4, -8, 90, 303, 13]\n",
      "the odd number from given list [-3, 4, -8, 90, 303, 13] is [-3, 303, 13]\n"
     ]
    }
   ],
   "source": [
    "def printoddnumberinlist():\n",
    "    numberofelements=int(input(\"how much elements you want to see in your list? \"))\n",
    "    list1=[]\n",
    "    odd_list=[]\n",
    "    for i in range(numberofelements):\n",
    "        list1.append(int(input(\"enter the elements in your list: \")))\n",
    "        print(list1)\n",
    "    for j in list1:\n",
    "        if j%2!=0:\n",
    "            odd_list.append(j)\n",
    "    print(f'the odd number from given list {list1} is {odd_list}')        \n",
    "        \n",
    "printoddnumberinlist()        "
   ]
  },
  {
   "cell_type": "markdown",
   "id": "f813409b",
   "metadata": {},
   "source": [
    "# 9. Write a Python program to Remove empty List from List?\n",
    "\n",
    "ANSWER-"
   ]
  },
  {
   "cell_type": "code",
   "execution_count": 110,
   "id": "24a4417c",
   "metadata": {},
   "outputs": [
    {
     "name": "stdout",
     "output_type": "stream",
     "text": [
      "enter all the elements of the list: [1,[],-7,[2,3],[],[9,0,3],-13]\n",
      "there is empty list in [1, [], -7, [2, 3], [], [9, 0, 3], -13] at position 1\n",
      "the empty list after removing from given list is [1, -7, [2, 3], [], [9, 0, 3], -13]\n",
      "there is empty list in [1, -7, [2, 3], [], [9, 0, 3], -13] at position 3\n",
      "the empty list after removing from given list is [1, -7, [2, 3], [9, 0, 3], -13]\n",
      "there is no any empty list in the given list: [1, -7, [2, 3], [9, 0, 3], -13]\n",
      "enter all the elements of the list: [1,2,3,4,5]\n",
      "there is no any empty list in the given list: [1, 2, 3, 4, 5]\n"
     ]
    }
   ],
   "source": [
    "def checkemptylist():\n",
    "    in_list=eval(input(\"enter all the elements of the list: \"))\n",
    "    for i in range(len(in_list)):\n",
    "        if [] in in_list:\n",
    "            print(f'there is empty list in {in_list} at position {in_list.index([])}')\n",
    "            in_list.remove([])\n",
    "            print(f'the empty list after removing from given list is {in_list}')\n",
    "    else:\n",
    "        print(f'there is no any empty list in the given list: {in_list}')\n",
    "        \n",
    "checkemptylist()\n",
    "checkemptylist()"
   ]
  },
  {
   "cell_type": "markdown",
   "id": "7e21c8b1",
   "metadata": {},
   "source": [
    "# 10. Write a Python program to Cloning or Copying a list?\n",
    "\n",
    "ANSWER-"
   ]
  },
  {
   "cell_type": "code",
   "execution_count": 111,
   "id": "3da793ea",
   "metadata": {},
   "outputs": [
    {
     "name": "stdout",
     "output_type": "stream",
     "text": [
      "enter the all elements of list : [7,-3,5,6-2,1]\n",
      "[7, -3, 5, 4, 1] 2278761563648\n",
      "[7, -3, 5, 4, 1] 2278759064512\n"
     ]
    }
   ],
   "source": [
    "import copy\n",
    "def clone_a_list():\n",
    "    in_list=eval(input(\"enter the all elements of list : \"))\n",
    "    print(in_list,id(in_list))\n",
    "    cloned_list=in_list.copy()\n",
    "    print(cloned_list,id(cloned_list))\n",
    "    \n",
    "clone_a_list()    "
   ]
  },
  {
   "cell_type": "markdown",
   "id": "5f9b3eb0",
   "metadata": {},
   "source": [
    "# 11. Write a Python program to Count occurrences of an element in a list?\n",
    "\n",
    "ANSWER-"
   ]
  },
  {
   "cell_type": "code",
   "execution_count": 115,
   "id": "d5d302ae",
   "metadata": {},
   "outputs": [
    {
     "name": "stdout",
     "output_type": "stream",
     "text": [
      "enter all elements in list: [4,7,8,9-2,7,8,1,2,3-8,9]\n",
      "enter the element to find: 8\n",
      "there are 2 occurrences of 8 in [4, 7, 8, 7, 7, 8, 1, 2, -5, 9]\n"
     ]
    }
   ],
   "source": [
    "def checkOccurrences():\n",
    "    in_list=eval(input(\"enter all elements in list: \"))\n",
    "    in_num=eval(input(\"enter the element to find: \"))\n",
    "    count=0\n",
    "    if in_num in in_list:\n",
    "        for i in in_list:\n",
    "            if i==in_num:\n",
    "                count=count+1\n",
    "    print(f'there are {count} occurrences of {in_num} in {in_list}')\n",
    "    \n",
    "checkOccurrences()    "
   ]
  },
  {
   "cell_type": "code",
   "execution_count": null,
   "id": "fc1ce542",
   "metadata": {},
   "outputs": [],
   "source": []
  }
 ],
 "metadata": {
  "kernelspec": {
   "display_name": "Python 3 (ipykernel)",
   "language": "python",
   "name": "python3"
  },
  "language_info": {
   "codemirror_mode": {
    "name": "ipython",
    "version": 3
   },
   "file_extension": ".py",
   "mimetype": "text/x-python",
   "name": "python",
   "nbconvert_exporter": "python",
   "pygments_lexer": "ipython3",
   "version": "3.9.12"
  }
 },
 "nbformat": 4,
 "nbformat_minor": 5
}
